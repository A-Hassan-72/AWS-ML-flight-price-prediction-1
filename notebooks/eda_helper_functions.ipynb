{
 "cells": [
  {
   "cell_type": "code",
   "execution_count": 3,
   "id": "581840c5-0539-4778-9e57-0c7e505e6b2c",
   "metadata": {},
   "outputs": [],
   "source": [
    "def missing_info(data) :\n",
    "    na_cols = [ col for col in data.columns if data[col].isna().any() ]\n",
    "    na_counts = [ data[col].isna().sum() for col in na_cols ]\n",
    "    na_pct = [ data[col].isna().mean*100 for col in na_cols ]\n",
    "\n",
    "    return (\n",
    "        pd.dataframe( data = {\n",
    "            \"features\" : na_cols,\n",
    "            \"missing_count\" : na_counts,\n",
    "            \"missing_pct\" : na_pct\n",
    "        }\n",
    "        )\n",
    "        \n",
    "        .sort_values(by = na_counts, ascending = False)\n",
    "        .set_index(\"features\")\n",
    "    )\n"
   ]
  },
  {
   "cell_type": "code",
   "execution_count": null,
   "id": "94725bda-3d13-4437-9875-6a2fd4bec938",
   "metadata": {},
   "outputs": [],
   "source": [
    "def plot_missing_info() :\n",
    "    "
   ]
  }
 ],
 "metadata": {
  "kernelspec": {
   "display_name": "Python 3 (ipykernel)",
   "language": "python",
   "name": "python3"
  },
  "language_info": {
   "codemirror_mode": {
    "name": "ipython",
    "version": 3
   },
   "file_extension": ".py",
   "mimetype": "text/x-python",
   "name": "python",
   "nbconvert_exporter": "python",
   "pygments_lexer": "ipython3",
   "version": "3.11.5"
  }
 },
 "nbformat": 4,
 "nbformat_minor": 5
}
